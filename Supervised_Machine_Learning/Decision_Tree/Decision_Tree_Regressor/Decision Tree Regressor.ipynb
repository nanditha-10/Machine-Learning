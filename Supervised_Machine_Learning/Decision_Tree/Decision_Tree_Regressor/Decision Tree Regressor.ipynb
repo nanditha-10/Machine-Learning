{
 "cells": [
  {
   "cell_type": "code",
   "execution_count": 1,
   "metadata": {},
   "outputs": [],
   "source": [
    "# Importing the libraries\n",
    "import numpy as np\n",
    "import matplotlib.pyplot as plt\n",
    "import pandas as pd\n",
    "from sklearn.model_selection import train_test_split\n",
    "from sklearn.tree import DecisionTreeRegressor\n",
    "from sklearn import metrics"
   ]
  },
  {
   "cell_type": "code",
   "execution_count": 2,
   "metadata": {},
   "outputs": [
    {
     "name": "stdout",
     "output_type": "stream",
     "text": [
      "   ID  Height(Inches)  Weight(Pounds)\n",
      "0   1        65.78331        112.9925\n",
      "1   2        71.51521        136.4873\n",
      "2   3        69.39874        153.0269\n",
      "3   4        68.21660        142.3354\n",
      "4   5        67.78781        144.2971\n"
     ]
    }
   ],
   "source": [
    "#reading files through pandas\n",
    "df = pd.read_csv('Dataset.csv')\n",
    "print(df.head())"
   ]
  },
  {
   "cell_type": "code",
   "execution_count": 3,
   "metadata": {},
   "outputs": [],
   "source": [
    "#taking data to the x and y variables\n",
    "x = df.iloc[:,0:2]\n",
    "y = df.iloc[:,-1]"
   ]
  },
  {
   "cell_type": "code",
   "execution_count": 4,
   "metadata": {},
   "outputs": [],
   "source": [
    "x_train, x_test, y_train, y_test = train_test_split(x, y, test_size=0.25,train_size=0.75, random_state=40)\n"
   ]
  },
  {
   "cell_type": "code",
   "execution_count": 5,
   "metadata": {},
   "outputs": [
    {
     "name": "stdout",
     "output_type": "stream",
     "text": [
      "[124.8542  124.3037  128.3836  119.7404  123.9315  139.38    118.7008\n",
      " 124.1641  112.1788  134.2647  138.7444  134.678   132.9248  127.1436\n",
      " 135.7458  133.6992  124.1641  129.3137  131.3231  123.9952  128.2736\n",
      "  98.64133 122.3844  130.9283  117.159   122.039   153.0797  127.7141\n",
      " 119.9001  130.2738  133.2068  127.6446  135.0239  119.3691  140.2166\n",
      " 106.5185  130.2738  168.229   116.0061  114.2555  121.9395  136.9164\n",
      " 142.4235  127.6172  109.8765  116.4113  110.5155  119.4067  141.1703\n",
      " 140.1015  141.8501  134.3986  145.8886  137.1114  146.3385  120.8431\n",
      " 121.5255  128.9418  127.5187  131.8001  127.8407  125.4007  127.5839\n",
      " 115.8413  106.4499  132.9429  129.6944  137.1114  114.9725  109.6518\n",
      " 137.1114  110.5155  128.5815  130.2787  128.417   114.5599  106.9803\n",
      " 145.9328  138.2824  130.6988  135.7695  131.7743  135.0151  124.7975\n",
      " 168.229   123.9952  111.8955  141.1703  134.7804  125.4748  151.6121\n",
      " 115.9678  124.5581  124.9721  124.3513  135.0239  134.9877  151.0695\n",
      " 119.7404  124.7975  124.1866  134.19    134.0296  117.9618  114.5867\n",
      " 117.159   110.5155  117.9607  155.3767  135.0151  129.605   124.3513\n",
      " 132.6366  119.2488  114.9262  127.8292  139.0617  128.824   127.0075\n",
      " 134.7905  114.5867  121.0749  117.0167  125.0174  127.6446  114.143\n",
      " 121.1142  139.0499  138.5255  135.6203  132.9429  111.8955  127.1941\n",
      " 121.2997  132.9048  134.449   129.605   142.4235  144.9927  147.5061\n",
      " 122.5699  138.5255  129.6944  116.9994  145.8886  138.5255  150.7397\n",
      " 107.8693  124.7299  115.783   124.7975  138.0935  128.3836  123.1347\n",
      " 137.7571  121.9395  127.6172  129.4022  140.5293  128.417   110.698\n",
      " 122.8198  106.1557  125.4007  116.819   129.3137  129.6944  125.6688\n",
      " 118.5371  129.605   137.5583  127.7141  127.6446  132.5807  142.4235\n",
      " 124.887   134.19    133.9841  153.0269  110.6754  127.4516  114.143\n",
      " 115.8413  145.8063  115.783   125.4036  134.3986  127.0075  122.13\n",
      " 142.1577  123.1361  150.7397  114.5599  122.8198  123.3024  132.9429\n",
      " 125.7451  109.8765  150.7365  120.8431 ]\n"
     ]
    }
   ],
   "source": [
    "dtree = DecisionTreeRegressor()\n",
    "dtree.fit(x_train,y_train)\n",
    "y_pred = dtree.predict(x_test)\n",
    "print(y_pred)"
   ]
  },
  {
   "cell_type": "code",
   "execution_count": 6,
   "metadata": {},
   "outputs": [
    {
     "name": "stdout",
     "output_type": "stream",
     "text": [
      "RMSE Score : 14.354902384733743\n",
      "       Actual  Predicted\n",
      "737  122.8464   124.8542\n",
      "339  104.4441   124.3037\n",
      "438  136.8530   128.3836\n",
      "678  134.4605   119.7404\n",
      "609  128.7947   123.9315\n",
      "..        ...        ...\n",
      "571  148.1624   132.9429\n",
      "619  117.4840   125.7451\n",
      "155  106.1139   109.8765\n",
      "598  154.1073   150.7365\n",
      "221  130.1569   120.8431\n",
      "\n",
      "[200 rows x 2 columns]\n"
     ]
    }
   ],
   "source": [
    "rmse = np.sqrt(metrics.mean_squared_error(y_test, y_pred))\n",
    "print(\"RMSE Score :\",rmse)\n",
    "dt = pd.DataFrame({'Actual': y_test, 'Predicted': y_pred})\n",
    "print(dt)"
   ]
  }
 ],
 "metadata": {
  "kernelspec": {
   "display_name": "Python 3",
   "language": "python",
   "name": "python3"
  },
  "language_info": {
   "codemirror_mode": {
    "name": "ipython",
    "version": 3
   },
   "file_extension": ".py",
   "mimetype": "text/x-python",
   "name": "python",
   "nbconvert_exporter": "python",
   "pygments_lexer": "ipython3",
   "version": "3.12.2"
  }
 },
 "nbformat": 4,
 "nbformat_minor": 2
}
